{
  "nbformat": 4,
  "nbformat_minor": 0,
  "metadata": {
    "colab": {
      "name": "Project 2 Part 2/ Trey Owens",
      "provenance": [],
      "authorship_tag": "ABX9TyNlHD0ZjLQTOBTJ5QvaiVF4",
      "include_colab_link": true
    },
    "kernelspec": {
      "name": "python3",
      "display_name": "Python 3"
    },
    "language_info": {
      "name": "python"
    }
  },
  "cells": [
    {
      "cell_type": "markdown",
      "metadata": {
        "id": "view-in-github",
        "colab_type": "text"
      },
      "source": [
        "<a href=\"https://colab.research.google.com/github/OwensP036/Surekidder-/blob/main/Project_2_Part_2_Trey_Owens.ipynb\" target=\"_parent\"><img src=\"https://colab.research.google.com/assets/colab-badge.svg\" alt=\"Open In Colab\"/></a>"
      ]
    },
    {
      "cell_type": "code",
      "source": [
        "import requests \n",
        "import pandas as pd\n",
        "url= 'https://raw.githubusercontent.com/OwensP036/Surekidder-/main/SNAP_history_1969_2019.csv'\n",
        "df = pd.read_csv(url)\n",
        "df.head()"
      ],
      "metadata": {
        "colab": {
          "base_uri": "https://localhost:8080/",
          "height": 204
        },
        "id": "e1JEhqOT0klD",
        "outputId": "04d4bca0-962a-4963-8d06-e0b8e0a55f6f"
      },
      "execution_count": 12,
      "outputs": [
        {
          "output_type": "execute_result",
          "data": {
            "text/plain": [
              "  Fiscal Year Average Participation  Average Benefit Per Person  \\\n",
              "0        1969                 2,878                        6.63   \n",
              "1        1970                 4,340                       10.55   \n",
              "2        1971                 9,368                       13.55   \n",
              "3        1972                11,109                       13.48   \n",
              "4        1973                12,166                       14.60   \n",
              "\n",
              "  Total Benefits(M) Other Costs Total Costs(M)  \n",
              "0            228.80       21.70         250.50  \n",
              "1            549.70       27.20         576.90  \n",
              "2          1,522.70       53.20       1,575.90  \n",
              "3          1,797.30       69.40       1,866.70  \n",
              "4          2,131.40       76.00       2,207.40  "
            ],
            "text/html": [
              "\n",
              "  <div id=\"df-9c9eed4b-1556-4527-bc51-658cfd8a0fc2\">\n",
              "    <div class=\"colab-df-container\">\n",
              "      <div>\n",
              "<style scoped>\n",
              "    .dataframe tbody tr th:only-of-type {\n",
              "        vertical-align: middle;\n",
              "    }\n",
              "\n",
              "    .dataframe tbody tr th {\n",
              "        vertical-align: top;\n",
              "    }\n",
              "\n",
              "    .dataframe thead th {\n",
              "        text-align: right;\n",
              "    }\n",
              "</style>\n",
              "<table border=\"1\" class=\"dataframe\">\n",
              "  <thead>\n",
              "    <tr style=\"text-align: right;\">\n",
              "      <th></th>\n",
              "      <th>Fiscal Year</th>\n",
              "      <th>Average Participation</th>\n",
              "      <th>Average Benefit Per Person</th>\n",
              "      <th>Total Benefits(M)</th>\n",
              "      <th>Other Costs</th>\n",
              "      <th>Total Costs(M)</th>\n",
              "    </tr>\n",
              "  </thead>\n",
              "  <tbody>\n",
              "    <tr>\n",
              "      <th>0</th>\n",
              "      <td>1969</td>\n",
              "      <td>2,878</td>\n",
              "      <td>6.63</td>\n",
              "      <td>228.80</td>\n",
              "      <td>21.70</td>\n",
              "      <td>250.50</td>\n",
              "    </tr>\n",
              "    <tr>\n",
              "      <th>1</th>\n",
              "      <td>1970</td>\n",
              "      <td>4,340</td>\n",
              "      <td>10.55</td>\n",
              "      <td>549.70</td>\n",
              "      <td>27.20</td>\n",
              "      <td>576.90</td>\n",
              "    </tr>\n",
              "    <tr>\n",
              "      <th>2</th>\n",
              "      <td>1971</td>\n",
              "      <td>9,368</td>\n",
              "      <td>13.55</td>\n",
              "      <td>1,522.70</td>\n",
              "      <td>53.20</td>\n",
              "      <td>1,575.90</td>\n",
              "    </tr>\n",
              "    <tr>\n",
              "      <th>3</th>\n",
              "      <td>1972</td>\n",
              "      <td>11,109</td>\n",
              "      <td>13.48</td>\n",
              "      <td>1,797.30</td>\n",
              "      <td>69.40</td>\n",
              "      <td>1,866.70</td>\n",
              "    </tr>\n",
              "    <tr>\n",
              "      <th>4</th>\n",
              "      <td>1973</td>\n",
              "      <td>12,166</td>\n",
              "      <td>14.60</td>\n",
              "      <td>2,131.40</td>\n",
              "      <td>76.00</td>\n",
              "      <td>2,207.40</td>\n",
              "    </tr>\n",
              "  </tbody>\n",
              "</table>\n",
              "</div>\n",
              "      <button class=\"colab-df-convert\" onclick=\"convertToInteractive('df-9c9eed4b-1556-4527-bc51-658cfd8a0fc2')\"\n",
              "              title=\"Convert this dataframe to an interactive table.\"\n",
              "              style=\"display:none;\">\n",
              "        \n",
              "  <svg xmlns=\"http://www.w3.org/2000/svg\" height=\"24px\"viewBox=\"0 0 24 24\"\n",
              "       width=\"24px\">\n",
              "    <path d=\"M0 0h24v24H0V0z\" fill=\"none\"/>\n",
              "    <path d=\"M18.56 5.44l.94 2.06.94-2.06 2.06-.94-2.06-.94-.94-2.06-.94 2.06-2.06.94zm-11 1L8.5 8.5l.94-2.06 2.06-.94-2.06-.94L8.5 2.5l-.94 2.06-2.06.94zm10 10l.94 2.06.94-2.06 2.06-.94-2.06-.94-.94-2.06-.94 2.06-2.06.94z\"/><path d=\"M17.41 7.96l-1.37-1.37c-.4-.4-.92-.59-1.43-.59-.52 0-1.04.2-1.43.59L10.3 9.45l-7.72 7.72c-.78.78-.78 2.05 0 2.83L4 21.41c.39.39.9.59 1.41.59.51 0 1.02-.2 1.41-.59l7.78-7.78 2.81-2.81c.8-.78.8-2.07 0-2.86zM5.41 20L4 18.59l7.72-7.72 1.47 1.35L5.41 20z\"/>\n",
              "  </svg>\n",
              "      </button>\n",
              "      \n",
              "  <style>\n",
              "    .colab-df-container {\n",
              "      display:flex;\n",
              "      flex-wrap:wrap;\n",
              "      gap: 12px;\n",
              "    }\n",
              "\n",
              "    .colab-df-convert {\n",
              "      background-color: #E8F0FE;\n",
              "      border: none;\n",
              "      border-radius: 50%;\n",
              "      cursor: pointer;\n",
              "      display: none;\n",
              "      fill: #1967D2;\n",
              "      height: 32px;\n",
              "      padding: 0 0 0 0;\n",
              "      width: 32px;\n",
              "    }\n",
              "\n",
              "    .colab-df-convert:hover {\n",
              "      background-color: #E2EBFA;\n",
              "      box-shadow: 0px 1px 2px rgba(60, 64, 67, 0.3), 0px 1px 3px 1px rgba(60, 64, 67, 0.15);\n",
              "      fill: #174EA6;\n",
              "    }\n",
              "\n",
              "    [theme=dark] .colab-df-convert {\n",
              "      background-color: #3B4455;\n",
              "      fill: #D2E3FC;\n",
              "    }\n",
              "\n",
              "    [theme=dark] .colab-df-convert:hover {\n",
              "      background-color: #434B5C;\n",
              "      box-shadow: 0px 1px 3px 1px rgba(0, 0, 0, 0.15);\n",
              "      filter: drop-shadow(0px 1px 2px rgba(0, 0, 0, 0.3));\n",
              "      fill: #FFFFFF;\n",
              "    }\n",
              "  </style>\n",
              "\n",
              "      <script>\n",
              "        const buttonEl =\n",
              "          document.querySelector('#df-9c9eed4b-1556-4527-bc51-658cfd8a0fc2 button.colab-df-convert');\n",
              "        buttonEl.style.display =\n",
              "          google.colab.kernel.accessAllowed ? 'block' : 'none';\n",
              "\n",
              "        async function convertToInteractive(key) {\n",
              "          const element = document.querySelector('#df-9c9eed4b-1556-4527-bc51-658cfd8a0fc2');\n",
              "          const dataTable =\n",
              "            await google.colab.kernel.invokeFunction('convertToInteractive',\n",
              "                                                     [key], {});\n",
              "          if (!dataTable) return;\n",
              "\n",
              "          const docLinkHtml = 'Like what you see? Visit the ' +\n",
              "            '<a target=\"_blank\" href=https://colab.research.google.com/notebooks/data_table.ipynb>data table notebook</a>'\n",
              "            + ' to learn more about interactive tables.';\n",
              "          element.innerHTML = '';\n",
              "          dataTable['output_type'] = 'display_data';\n",
              "          await google.colab.output.renderOutput(dataTable, element);\n",
              "          const docLink = document.createElement('div');\n",
              "          docLink.innerHTML = docLinkHtml;\n",
              "          element.appendChild(docLink);\n",
              "        }\n",
              "      </script>\n",
              "    </div>\n",
              "  </div>\n",
              "  "
            ]
          },
          "metadata": {},
          "execution_count": 12
        }
      ]
    },
    {
      "cell_type": "code",
      "source": [
        "from sklearn.linear_model import LinearRegression"
      ],
      "metadata": {
        "id": "0yadTSuT0yLH"
      },
      "execution_count": 13,
      "outputs": []
    },
    {
      "cell_type": "code",
      "source": [
        "lm = LinearRegression()\n",
        "lm"
      ],
      "metadata": {
        "colab": {
          "base_uri": "https://localhost:8080/"
        },
        "id": "_psZkbG_01ti",
        "outputId": "1f4cc76b-35a2-410e-c99c-97609e584236"
      },
      "execution_count": 14,
      "outputs": [
        {
          "output_type": "execute_result",
          "data": {
            "text/plain": [
              "LinearRegression()"
            ]
          },
          "metadata": {},
          "execution_count": 14
        }
      ]
    },
    {
      "cell_type": "code",
      "source": [
        "X = df[['Total Benefits(M)']]\n",
        "Y = df['Average Participation']"
      ],
      "metadata": {
        "id": "WVHU7QBn02_b"
      },
      "execution_count": 15,
      "outputs": []
    },
    {
      "cell_type": "code",
      "source": [
        "lm.fit(X,Y)"
      ],
      "metadata": {
        "id": "RmwVple42fX3"
      },
      "execution_count": null,
      "outputs": []
    },
    {
      "cell_type": "code",
      "source": [
        "Yhat=lm.predict(X)\n",
        "Yhat[0:5]  "
      ],
      "metadata": {
        "id": "IqAzxkYm2i2w"
      },
      "execution_count": null,
      "outputs": []
    },
    {
      "cell_type": "code",
      "source": [
        "lm.intercept_"
      ],
      "metadata": {
        "id": "0B_LkjJL3WvF"
      },
      "execution_count": null,
      "outputs": []
    },
    {
      "cell_type": "code",
      "source": [
        "lm.coef_"
      ],
      "metadata": {
        "id": "QSSvLOf03aCe"
      },
      "execution_count": null,
      "outputs": []
    },
    {
      "cell_type": "code",
      "source": [
        "Z = df[['Total Benefits(M)', 'Average Participation', 'Other Costs', 'Total Costs(M)']]"
      ],
      "metadata": {
        "id": "XM7EEnuj3cFa"
      },
      "execution_count": null,
      "outputs": []
    },
    {
      "cell_type": "code",
      "source": [
        "lm.fit(Z, df['Average Benefit Per Person'])"
      ],
      "metadata": {
        "id": "FW7TXBvD3ure"
      },
      "execution_count": null,
      "outputs": []
    },
    {
      "cell_type": "code",
      "source": [
        "lm.intercept_"
      ],
      "metadata": {
        "id": "1IhY91-a32E7"
      },
      "execution_count": null,
      "outputs": []
    },
    {
      "cell_type": "code",
      "source": [
        "lm.coef_"
      ],
      "metadata": {
        "id": "-ma3q9cd3-9G"
      },
      "execution_count": null,
      "outputs": []
    },
    {
      "cell_type": "code",
      "source": [
        "# import the visualization package: seaborn\n",
        "import matplotlib.pyplot as plt\n",
        "import seaborn as sns\n",
        "%matplotlib inline "
      ],
      "metadata": {
        "id": "xqpGQ4VF4B9G"
      },
      "execution_count": null,
      "outputs": []
    },
    {
      "cell_type": "code",
      "source": [
        "width = 12\n",
        "height = 10\n",
        "plt.figure(figsize=(width, height))\n",
        "sns.regplot(x=\"Average Benefit Per Person\", y=\"Other Costs\", data=df)\n",
        "plt.ylim(0,)"
      ],
      "metadata": {
        "id": "un90O0oV4Ept"
      },
      "execution_count": null,
      "outputs": []
    },
    {
      "cell_type": "code",
      "source": [
        "plt.figure(figsize=(width, height))\n",
        "sns.regplot(x=\"Other Costs\", y=\"Average Benefit Per Person\", data=df)\n",
        "plt.ylim(0,)"
      ],
      "metadata": {
        "id": "EXGs7k7_4Lu0"
      },
      "execution_count": null,
      "outputs": []
    },
    {
      "cell_type": "code",
      "source": [
        "plt.figure(figsize=(width, height))\n",
        "sns.regplot(x=\"Average Benefit Per Person\", y=\"Other Costs\", data=df)\n",
        "plt.ylim(0,)"
      ],
      "metadata": {
        "id": "9eG-F7nD46uA"
      },
      "execution_count": null,
      "outputs": []
    },
    {
      "cell_type": "code",
      "source": [
        "plt.figure(figsize=(width, height))\n",
        "sns.regplot(x=\"Total Benefits(M)\", y=\"Other Costs\", data=df)\n",
        "plt.ylim(0,)"
      ],
      "metadata": {
        "id": "aJyCZEeu4-Gz"
      },
      "execution_count": null,
      "outputs": []
    },
    {
      "cell_type": "code",
      "source": [
        "width = 12\n",
        "height = 10\n",
        "plt.figure(figsize=(width, height))\n",
        "sns.residplot(df['liveness'], df['Other Costs'])\n",
        "plt.show()"
      ],
      "metadata": {
        "id": "sUrcXf3e5EaT"
      },
      "execution_count": null,
      "outputs": []
    },
    {
      "cell_type": "code",
      "source": [
        "width = 12\n",
        "height = 10\n",
        "plt.figure(figsize=(width, height))\n",
        "sns.residplot(df['Total Costs(M)'], df['Other Costs'])\n",
        "plt.show()"
      ],
      "metadata": {
        "id": "WilKy60e5Rj5"
      },
      "execution_count": null,
      "outputs": []
    },
    {
      "cell_type": "code",
      "source": [
        "width = 12\n",
        "height = 10\n",
        "plt.figure(figsize=(width, height))\n",
        "sns.residplot(df['Average Participation'], df['Other Costs'])\n",
        "plt.show()ipation"
      ],
      "metadata": {
        "id": "BO4swNlG5Z9K"
      },
      "execution_count": null,
      "outputs": []
    },
    {
      "cell_type": "code",
      "source": [
        "width = 12\n",
        "height = 10\n",
        "plt.figure(figsize=(width, height))\n",
        "sns.residplot(df['sure'], df['Other Costs'])\n",
        "plt.show()"
      ],
      "metadata": {
        "id": "6H6ID__E5kOr"
      },
      "execution_count": null,
      "outputs": []
    },
    {
      "cell_type": "code",
      "source": [
        "Y_hat = lm.predict(Z)"
      ],
      "metadata": {
        "id": "-g5dRNCT5pFG"
      },
      "execution_count": null,
      "outputs": []
    },
    {
      "cell_type": "code",
      "source": [
        "plt.figure(figsize=(width, height))\n",
        "\n",
        "\n",
        "ax1 = sns.distplot(df['Other Costs'], hist=False, color=\"r\", label=\"Average Participation\")\n",
        "sns.distplot(Y_hat, hist=False, color=\"b\", label=\"Fitted Values\" , ax=ax1)\n",
        "\n",
        "\n",
        "plt.title('Actual vs Fitted Values for Other Costs')\n",
        "plt.xlabel('Other Costs')\n",
        "plt.ylabel('Variables of Other Costs')\n",
        "\n",
        "plt.show()\n",
        "plt.close()"
      ],
      "metadata": {
        "id": "UivowAdB5rtw"
      },
      "execution_count": null,
      "outputs": []
    },
    {
      "cell_type": "code",
      "source": [
        "lm.fit(X, Y)\n",
        "# Find the R^2\n",
        "print('The R-square is: ', lm.score(X, Y))"
      ],
      "metadata": {
        "id": "Uovppdh66DMR"
      },
      "execution_count": null,
      "outputs": []
    },
    {
      "cell_type": "code",
      "source": [
        "Yhat=lm.predict(X)\n",
        "print('The output of the first four predicted value is: ', Yhat[0:4])"
      ],
      "metadata": {
        "id": "hCz2wXdu6Gzk"
      },
      "execution_count": null,
      "outputs": []
    },
    {
      "cell_type": "code",
      "source": [
        "from sklearn.metrics import mean_squared_error"
      ],
      "metadata": {
        "id": "2FliZ6rb6JvK"
      },
      "execution_count": null,
      "outputs": []
    },
    {
      "cell_type": "code",
      "source": [
        "mse = mean_squared_error(df['Other Costs'], Yhat)\n",
        "print('The mean square error of Other Costs and predicted value is: ', mse)"
      ],
      "metadata": {
        "id": "LpdE-mXi6MVv"
      },
      "execution_count": null,
      "outputs": []
    },
    {
      "cell_type": "code",
      "source": [
        "def PlotPolly(model, independent_variable, dependent_variabble, Name):\n",
        "    x_new = np.linspace(15, 55, 100)\n",
        "    y_new = model(x_new)\n",
        "\n",
        "    plt.plot(independent_variable, dependent_variabble, 'Other Costs.', x_new, y_new, '-')\n",
        "    plt.title('Polynomial Fit with Matplotlib for  ~ ')\n",
        "    ax = plt.gca()\n",
        "    ax.set_facecolor((0.898, 0.898, 0.898))\n",
        "    fig = plt.gcf()\n",
        "    plt.xlabel(Name)\n",
        "    plt.ylabel('Other Costs')\n",
        "\n",
        "    plt.show()\n",
        "    plt.close()"
      ],
      "metadata": {
        "id": "r7fa615f6fzG"
      },
      "execution_count": null,
      "outputs": []
    },
    {
      "cell_type": "code",
      "source": [
        "from ipywidgets import interact, interactive, fixed, interact_manual"
      ],
      "metadata": {
        "id": "IbIdHo6x62K0"
      },
      "execution_count": null,
      "outputs": []
    },
    {
      "cell_type": "code",
      "source": [
        "def DistributionPlot(RedFunction, BlueFunction, RedName, BlueName, Title):\n",
        "    width = 12\n",
        "    height = 10\n",
        "    plt.figure(figsize=(width, height))\n",
        "\n",
        "    ax1 = sns.distplot(RedFunction, hist=False, color=\"r\", label=RedName)\n",
        "    ax2 = sns.distplot(BlueFunction, hist=False, color=\"b\", label=BlueName, ax=ax1)\n",
        "\n",
        "    plt.title(Title)\n",
        "    plt.xlabel('Other Costs')\n",
        "    plt.ylabel('Other Costs')\n",
        "\n",
        "    plt.show()\n",
        "    plt.close()"
      ],
      "metadata": {
        "id": "y6Aw0qff67RX"
      },
      "execution_count": null,
      "outputs": []
    },
    {
      "cell_type": "code",
      "source": [
        "def PollyPlot(xtrain, xtest, y_train, y_test, lr,poly_transform):\n",
        "    width = 12\n",
        "    height = 10\n",
        "    plt.figure(figsize=(width, height))\n",
        "    \n",
        "    \n",
        "    #training data \n",
        "    #testing data \n",
        "    # lr:  linear regression object \n",
        "    #poly_transform:  polynomial transformation object \n",
        " \n",
        "    xmax=max([xtrain.values.max(), xtest.values.max()])\n",
        "\n",
        "    xmin=min([xtrain.values.min(), xtest.values.min()])\n",
        "\n",
        "    x=np.arange(xmin, xmax, 0.1)\n",
        "\n",
        "\n",
        "    plt.plot(xtrain, y_train, 'ro', label='Training Data')\n",
        "    plt.plot(xtest, y_test, 'go', label='Test Data')\n",
        "    plt.plot(x, lr.predict(poly_transform.fit_transform(x.reshape(-1, 1))), label='Predicted Function')\n",
        "    plt.ylim([-10000, 60000])\n",
        "    plt.ylabel('Other Costs')\n",
        "    plt.legend()"
      ],
      "metadata": {
        "id": "Q76MMQYZ7BoD"
      },
      "execution_count": null,
      "outputs": []
    },
    {
      "cell_type": "code",
      "source": [
        "y_data = df['Other Costs']\n",
        "\n",
        "x_data=df.drop('Other Costs',axis=1)"
      ],
      "metadata": {
        "id": "qLpyJ8Kg7H1p"
      },
      "execution_count": null,
      "outputs": []
    },
    {
      "cell_type": "code",
      "source": [
        "from sklearn.model_selection import train_test_split\n",
        "\n",
        "\n",
        "x_train, x_test, y_train, y_test = train_test_split(x_data, y_data, test_size=0.10, random_state=1)\n",
        "\n",
        "\n",
        "print(\"number of test samples :\", x_test.shape[0])\n",
        "print(\"number of training samples:\",x_train.shape[0])"
      ],
      "metadata": {
        "id": "1casZhRg7NFC"
      },
      "execution_count": null,
      "outputs": []
    },
    {
      "cell_type": "code",
      "source": [
        "from sklearn.linear_model import LinearRegression\n",
        "from sklearn.model_selection import cross_val_score"
      ],
      "metadata": {
        "id": "mqRuckBj7Rm3"
      },
      "execution_count": null,
      "outputs": []
    },
    {
      "cell_type": "code",
      "source": [
        "lre=LinearRegression()\n",
        "lre.fit(x_train[['Other Costs']], y_train)\n",
        "lre.score(x_test[['Other Costs']], y_test)\n",
        "lre.score(x_train[['Other Costs']], y_train)"
      ],
      "metadata": {
        "id": "Pm1fVHAs7Udi"
      },
      "execution_count": null,
      "outputs": []
    },
    {
      "cell_type": "code",
      "source": [
        ""
      ],
      "metadata": {
        "id": "Aw5yp8Fn7bhf"
      },
      "execution_count": null,
      "outputs": []
    }
  ]
}