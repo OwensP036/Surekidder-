{
  "nbformat": 4,
  "nbformat_minor": 0,
  "metadata": {
    "colab": {
      "name": "Copy of Project 1 part 2",
      "provenance": [],
      "collapsed_sections": [],
      "authorship_tag": "ABX9TyNCxBOOCq3mOVN4b5Q9BSdF",
      "include_colab_link": true
    },
    "kernelspec": {
      "name": "python3",
      "display_name": "Python 3"
    },
    "language_info": {
      "name": "python"
    }
  },
  "cells": [
    {
      "cell_type": "markdown",
      "metadata": {
        "id": "view-in-github",
        "colab_type": "text"
      },
      "source": [
        "<a href=\"https://colab.research.google.com/github/OwensP036/Surekidder-/blob/main/Copy_of_Project_1_part_2.ipynb\" target=\"_parent\"><img src=\"https://colab.research.google.com/assets/colab-badge.svg\" alt=\"Open In Colab\"/></a>"
      ]
    },
    {
      "cell_type": "code",
      "execution_count": null,
      "metadata": {
        "colab": {
          "base_uri": "https://localhost:8080/"
        },
        "id": "lhUB9eWhU9cw",
        "outputId": "f6cbedc3-0a3e-4965-d36c-fb0d366ef883"
      },
      "outputs": [
        {
          "output_type": "stream",
          "name": "stderr",
          "text": [
            "/usr/local/lib/python3.7/dist-packages/ipykernel_launcher.py:7: FutureWarning: Dropping of nuisance columns in DataFrame reductions (with 'numeric_only=None') is deprecated; in a future version this will raise TypeError.  Select only valid columns before calling the reduction.\n",
            "  import sys\n"
          ]
        },
        {
          "output_type": "execute_result",
          "data": {
            "text/plain": [
              "0       6.63\n",
              "1      10.55\n",
              "2      13.55\n",
              "3      13.48\n",
              "4      14.60\n",
              "5      17.61\n",
              "6      21.40\n",
              "7      23.93\n",
              "8      24.71\n",
              "9      26.77\n",
              "10     30.59\n",
              "11     34.47\n",
              "12     39.49\n",
              "13     39.17\n",
              "14     42.98\n",
              "15     42.74\n",
              "16     44.99\n",
              "17     45.49\n",
              "18     45.78\n",
              "19     49.83\n",
              "20     51.71\n",
              "21     58.78\n",
              "22     63.78\n",
              "23     68.57\n",
              "24     67.95\n",
              "25     69.00\n",
              "26     71.27\n",
              "27     73.21\n",
              "28     71.27\n",
              "29     71.12\n",
              "30     72.27\n",
              "31     72.62\n",
              "32     74.81\n",
              "33     79.67\n",
              "34     83.94\n",
              "35     86.16\n",
              "36     92.89\n",
              "37     94.75\n",
              "38     96.18\n",
              "39    102.19\n",
              "40    125.31\n",
              "41    133.79\n",
              "42    133.85\n",
              "43    133.41\n",
              "44    133.07\n",
              "45    125.01\n",
              "46    126.81\n",
              "47    125.40\n",
              "48    125.47\n",
              "49    124.50\n",
              "50    129.83\n",
              "dtype: float64"
            ]
          },
          "metadata": {},
          "execution_count": 7
        }
      ],
      "source": [
        "import pandas as pd\n",
        "\n",
        "\n",
        "df = pd.read_csv ('https://raw.githubusercontent.com/OwensP036/Surekidder-/main/SNAP_history_1969_2019.csv')\n",
        "\n",
        "#mean for all values\n",
        "df.mean(axis = 1, skipna = True)"
      ]
    },
    {
      "cell_type": "code",
      "source": [
        "# Minimum values\n",
        "df.min(axis = 1)"
      ],
      "metadata": {
        "colab": {
          "base_uri": "https://localhost:8080/"
        },
        "id": "g1Bu6FEgjyMn",
        "outputId": "aecaf85a-411a-4bb2-ab6b-a2f2f0d58d80"
      },
      "execution_count": null,
      "outputs": [
        {
          "output_type": "stream",
          "name": "stderr",
          "text": [
            "/usr/local/lib/python3.7/dist-packages/ipykernel_launcher.py:2: FutureWarning: Dropping of nuisance columns in DataFrame reductions (with 'numeric_only=None') is deprecated; in a future version this will raise TypeError.  Select only valid columns before calling the reduction.\n",
            "  \n"
          ]
        },
        {
          "output_type": "execute_result",
          "data": {
            "text/plain": [
              "0       6.63\n",
              "1      10.55\n",
              "2      13.55\n",
              "3      13.48\n",
              "4      14.60\n",
              "5      17.61\n",
              "6      21.40\n",
              "7      23.93\n",
              "8      24.71\n",
              "9      26.77\n",
              "10     30.59\n",
              "11     34.47\n",
              "12     39.49\n",
              "13     39.17\n",
              "14     42.98\n",
              "15     42.74\n",
              "16     44.99\n",
              "17     45.49\n",
              "18     45.78\n",
              "19     49.83\n",
              "20     51.71\n",
              "21     58.78\n",
              "22     63.78\n",
              "23     68.57\n",
              "24     67.95\n",
              "25     69.00\n",
              "26     71.27\n",
              "27     73.21\n",
              "28     71.27\n",
              "29     71.12\n",
              "30     72.27\n",
              "31     72.62\n",
              "32     74.81\n",
              "33     79.67\n",
              "34     83.94\n",
              "35     86.16\n",
              "36     92.89\n",
              "37     94.75\n",
              "38     96.18\n",
              "39    102.19\n",
              "40    125.31\n",
              "41    133.79\n",
              "42    133.85\n",
              "43    133.41\n",
              "44    133.07\n",
              "45    125.01\n",
              "46    126.81\n",
              "47    125.40\n",
              "48    125.47\n",
              "49    124.50\n",
              "50    129.83\n",
              "dtype: float64"
            ]
          },
          "metadata": {},
          "execution_count": 8
        }
      ]
    },
    {
      "cell_type": "code",
      "source": [
        "corrM = df.corr()\n",
        "corrM"
      ],
      "metadata": {
        "colab": {
          "base_uri": "https://localhost:8080/",
          "height": 80
        },
        "id": "8M5cc4GVkFaD",
        "outputId": "e8991623-3388-467f-b66f-762ac621ad79"
      },
      "execution_count": null,
      "outputs": [
        {
          "output_type": "execute_result",
          "data": {
            "text/plain": [
              "                            Average Benefit Per Person\n",
              "Average Benefit Per Person                         1.0"
            ],
            "text/html": [
              "\n",
              "  <div id=\"df-60c61e48-9682-4924-a898-f43c8403b35c\">\n",
              "    <div class=\"colab-df-container\">\n",
              "      <div>\n",
              "<style scoped>\n",
              "    .dataframe tbody tr th:only-of-type {\n",
              "        vertical-align: middle;\n",
              "    }\n",
              "\n",
              "    .dataframe tbody tr th {\n",
              "        vertical-align: top;\n",
              "    }\n",
              "\n",
              "    .dataframe thead th {\n",
              "        text-align: right;\n",
              "    }\n",
              "</style>\n",
              "<table border=\"1\" class=\"dataframe\">\n",
              "  <thead>\n",
              "    <tr style=\"text-align: right;\">\n",
              "      <th></th>\n",
              "      <th>Average Benefit Per Person</th>\n",
              "    </tr>\n",
              "  </thead>\n",
              "  <tbody>\n",
              "    <tr>\n",
              "      <th>Average Benefit Per Person</th>\n",
              "      <td>1.0</td>\n",
              "    </tr>\n",
              "  </tbody>\n",
              "</table>\n",
              "</div>\n",
              "      <button class=\"colab-df-convert\" onclick=\"convertToInteractive('df-60c61e48-9682-4924-a898-f43c8403b35c')\"\n",
              "              title=\"Convert this dataframe to an interactive table.\"\n",
              "              style=\"display:none;\">\n",
              "        \n",
              "  <svg xmlns=\"http://www.w3.org/2000/svg\" height=\"24px\"viewBox=\"0 0 24 24\"\n",
              "       width=\"24px\">\n",
              "    <path d=\"M0 0h24v24H0V0z\" fill=\"none\"/>\n",
              "    <path d=\"M18.56 5.44l.94 2.06.94-2.06 2.06-.94-2.06-.94-.94-2.06-.94 2.06-2.06.94zm-11 1L8.5 8.5l.94-2.06 2.06-.94-2.06-.94L8.5 2.5l-.94 2.06-2.06.94zm10 10l.94 2.06.94-2.06 2.06-.94-2.06-.94-.94-2.06-.94 2.06-2.06.94z\"/><path d=\"M17.41 7.96l-1.37-1.37c-.4-.4-.92-.59-1.43-.59-.52 0-1.04.2-1.43.59L10.3 9.45l-7.72 7.72c-.78.78-.78 2.05 0 2.83L4 21.41c.39.39.9.59 1.41.59.51 0 1.02-.2 1.41-.59l7.78-7.78 2.81-2.81c.8-.78.8-2.07 0-2.86zM5.41 20L4 18.59l7.72-7.72 1.47 1.35L5.41 20z\"/>\n",
              "  </svg>\n",
              "      </button>\n",
              "      \n",
              "  <style>\n",
              "    .colab-df-container {\n",
              "      display:flex;\n",
              "      flex-wrap:wrap;\n",
              "      gap: 12px;\n",
              "    }\n",
              "\n",
              "    .colab-df-convert {\n",
              "      background-color: #E8F0FE;\n",
              "      border: none;\n",
              "      border-radius: 50%;\n",
              "      cursor: pointer;\n",
              "      display: none;\n",
              "      fill: #1967D2;\n",
              "      height: 32px;\n",
              "      padding: 0 0 0 0;\n",
              "      width: 32px;\n",
              "    }\n",
              "\n",
              "    .colab-df-convert:hover {\n",
              "      background-color: #E2EBFA;\n",
              "      box-shadow: 0px 1px 2px rgba(60, 64, 67, 0.3), 0px 1px 3px 1px rgba(60, 64, 67, 0.15);\n",
              "      fill: #174EA6;\n",
              "    }\n",
              "\n",
              "    [theme=dark] .colab-df-convert {\n",
              "      background-color: #3B4455;\n",
              "      fill: #D2E3FC;\n",
              "    }\n",
              "\n",
              "    [theme=dark] .colab-df-convert:hover {\n",
              "      background-color: #434B5C;\n",
              "      box-shadow: 0px 1px 3px 1px rgba(0, 0, 0, 0.15);\n",
              "      filter: drop-shadow(0px 1px 2px rgba(0, 0, 0, 0.3));\n",
              "      fill: #FFFFFF;\n",
              "    }\n",
              "  </style>\n",
              "\n",
              "      <script>\n",
              "        const buttonEl =\n",
              "          document.querySelector('#df-60c61e48-9682-4924-a898-f43c8403b35c button.colab-df-convert');\n",
              "        buttonEl.style.display =\n",
              "          google.colab.kernel.accessAllowed ? 'block' : 'none';\n",
              "\n",
              "        async function convertToInteractive(key) {\n",
              "          const element = document.querySelector('#df-60c61e48-9682-4924-a898-f43c8403b35c');\n",
              "          const dataTable =\n",
              "            await google.colab.kernel.invokeFunction('convertToInteractive',\n",
              "                                                     [key], {});\n",
              "          if (!dataTable) return;\n",
              "\n",
              "          const docLinkHtml = 'Like what you see? Visit the ' +\n",
              "            '<a target=\"_blank\" href=https://colab.research.google.com/notebooks/data_table.ipynb>data table notebook</a>'\n",
              "            + ' to learn more about interactive tables.';\n",
              "          element.innerHTML = '';\n",
              "          dataTable['output_type'] = 'display_data';\n",
              "          await google.colab.output.renderOutput(dataTable, element);\n",
              "          const docLink = document.createElement('div');\n",
              "          docLink.innerHTML = docLinkHtml;\n",
              "          element.appendChild(docLink);\n",
              "        }\n",
              "      </script>\n",
              "    </div>\n",
              "  </div>\n",
              "  "
            ]
          },
          "metadata": {},
          "execution_count": 13
        }
      ]
    }
  ]
}